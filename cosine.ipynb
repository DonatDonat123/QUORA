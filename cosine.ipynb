{
 "cells": [
  {
   "cell_type": "code",
   "execution_count": 154,
   "metadata": {
    "collapsed": false
   },
   "outputs": [
    {
     "name": "stdout",
     "output_type": "stream",
     "text": [
      "sample_submission.csv\n",
      "test.csv\n",
      "train.csv\n",
      "\n"
     ]
    }
   ],
   "source": [
    "# This Python 3 environment comes with many helpful analytics libraries installed\n",
    "# It is defined by the kaggle/python docker image: https://github.com/kaggle/docker-python\n",
    "# For example, here's several helpful packages to load in \n",
    "from sklearn.ensemble import RandomForestClassifier\n",
    "\n",
    "import numpy as np # linear algebra\n",
    "import pandas as pd # data processing, CSV file I/O (e.g. pd.read_csv)\n",
    "from sklearn.feature_extraction.text import CountVectorizer\n",
    "from sklearn.metrics.pairwise import cosine_similarity\n",
    "# Input data files are available in the \"../input/\" directory.\n",
    "# For example, running this (by clicking run or pressing Shift+Enter) will list the files in the input directory\n",
    "\n",
    "from subprocess import check_output\n",
    "print(check_output([\"ls\", \"./input\"]).decode(\"utf8\"))\n",
    "\n",
    "import matplotlib.pyplot as plt\n",
    "\n",
    "# Any results you write to the current directory are saved as output."
   ]
  },
  {
   "cell_type": "code",
   "execution_count": 157,
   "metadata": {
    "collapsed": false
   },
   "outputs": [],
   "source": [
    "df = pd.read_csv('./input/train.csv')#.dropna() #There is a nan in here?\n",
    "df_test = pd.read_csv('./input/test.csv')#.dropna() #There is a nan in here?\n"
   ]
  },
  {
   "cell_type": "code",
   "execution_count": 31,
   "metadata": {
    "collapsed": false
   },
   "outputs": [],
   "source": [
    "sample = pd.read_csv('./input/sample_submission.csv').dropna() #There is a nan in here?"
   ]
  },
  {
   "cell_type": "markdown",
   "metadata": {},
   "source": [
    "# SAMPLE SUBMISSION FILE"
   ]
  },
  {
   "cell_type": "code",
   "execution_count": null,
   "metadata": {
    "collapsed": false
   },
   "outputs": [],
   "source": []
  },
  {
   "cell_type": "code",
   "execution_count": 150,
   "metadata": {
    "collapsed": false
   },
   "outputs": [],
   "source": [
    "samplesub = df_test['test_id']\n",
    "is_duplicate = np.zeros(len(samplesub), dtype=np.int)\n",
    "\n",
    "samplesub\n",
    "dfsub = pd.DataFrame(data=np.array(samplesub), columns=['test_id'])\n",
    "#dfsub.loc[:, 4] = pd.Series(samplesub, index=dfsub.index)\n",
    "dfsub.loc[:, 'is_duplicate'] = pd.Series(is_duplicate, index=dfsub.index)\n",
    "#dfsub"
   ]
  },
  {
   "cell_type": "code",
   "execution_count": 152,
   "metadata": {
    "collapsed": false
   },
   "outputs": [
    {
     "data": {
      "text/plain": [
       "2345796"
      ]
     },
     "execution_count": 152,
     "metadata": {},
     "output_type": "execute_result"
    }
   ],
   "source": [
    "dfsub.to_csv('dfsub.csv', index=False)\n",
    "len(dfsub)\n",
    "2345796 "
   ]
  },
  {
   "cell_type": "code",
   "execution_count": 3,
   "metadata": {
    "collapsed": false
   },
   "outputs": [],
   "source": [
    "corpus =pd.concat([df.question1,df.question2])\n",
    "\n",
    "cv = CountVectorizer().fit(corpus)\n",
    "\n",
    "duplicates = df.loc[df.is_duplicate==1,['question1','question2']]\n",
    "nondupes = df.loc[df.is_duplicate==0,['question1','question2']]"
   ]
  },
  {
   "cell_type": "code",
   "execution_count": 162,
   "metadata": {
    "collapsed": false
   },
   "outputs": [
    {
     "data": {
      "text/plain": [
       "CountVectorizer(analyzer='word', binary=False, decode_error='strict',\n",
       "        dtype=<class 'numpy.int64'>, encoding='utf-8', input='content',\n",
       "        lowercase=True, max_df=1.0, max_features=None, min_df=1,\n",
       "        ngram_range=(1, 1), preprocessor=None, stop_words=None,\n",
       "        strip_accents=None, token_pattern='(?u)\\\\b\\\\w\\\\w+\\\\b',\n",
       "        tokenizer=None, vocabulary=None)"
      ]
     },
     "execution_count": 162,
     "metadata": {},
     "output_type": "execute_result"
    }
   ],
   "source": [
    "cv"
   ]
  },
  {
   "cell_type": "code",
   "execution_count": 4,
   "metadata": {
    "collapsed": false
   },
   "outputs": [],
   "source": [
    "non_dupes_csim = []\n",
    "\n",
    "# Right now range/10 due to time\n",
    "for j in range(int(nondupes.shape[0]/10)):\n",
    "    \n",
    "    a = cv.transform([nondupes.iloc[j].question1])\n",
    "    b = cv.transform([nondupes.iloc[j].question2])\n",
    "    \n",
    "    non_dupes_csim.append( cosine_similarity(a,b).ravel()[0])\n",
    "duplicates_csim = []\n",
    "counter = 0\n",
    "# Right now range/10 due to time\n",
    "for j in range (int(duplicates.shape[0]/10)):\n",
    "    a = cv.transform([duplicates.iloc[j].question1])\n",
    "    b = cv.transform([duplicates.iloc[j].question2])\n",
    "    counter += 1\n",
    "    \n",
    "    duplicates_csim.append( cosine_similarity(a,b).ravel()[0])"
   ]
  },
  {
   "cell_type": "code",
   "execution_count": 160,
   "metadata": {
    "collapsed": false
   },
   "outputs": [
    {
     "data": {
      "text/plain": [
       "0    What is the step by step guide to invest in sh...\n",
       "0    What is the step by step guide to invest in sh...\n",
       "dtype: object"
      ]
     },
     "execution_count": 160,
     "metadata": {},
     "output_type": "execute_result"
    }
   ],
   "source": []
  },
  {
   "cell_type": "code",
   "execution_count": 21,
   "metadata": {
    "collapsed": false
   },
   "outputs": [],
   "source": [
    "all_csim = []\n",
    "# Right now range/10 due to time\n",
    "for j in range (int(duplicates.shape[0]/20)):\n",
    "    a = cv.transform([duplicates.iloc[j].question1])\n",
    "    b = cv.transform([duplicates.iloc[j].question2])\n",
    "    counter += 1\n",
    "    \n",
    "    duplicates_csim.append( cosine_similarity(a,b).ravel()[0])"
   ]
  },
  {
   "cell_type": "code",
   "execution_count": 22,
   "metadata": {
    "collapsed": false
   },
   "outputs": [
    {
     "data": {
      "image/png": "[encoded data removed]",
      "text/plain": [
       "<matplotlib.figure.Figure at 0x7f7ff6254400>"
      ]
     },
     "metadata": {},
     "output_type": "display_data"
    }
   ],
   "source": [
    "plt.hist(duplicates_csim, alpha = 0.5, color = 'r', normed = True, bins = np.linspace(0,1,11))\n",
    "plt.hist(non_dupes_csim, alpha = 0.5, color = 'b', normed = True, bins = np.linspace(0,1,11))\n",
    "plt.show()"
   ]
  },
  {
   "cell_type": "code",
   "execution_count": 25,
   "metadata": {
    "collapsed": false
   },
   "outputs": [
    {
     "name": "stdout",
     "output_type": "stream",
     "text": [
      "0.625402784023\n",
      "0.433806865541\n"
     ]
    }
   ],
   "source": [
    "print(np.mean(duplicates_csim))\n",
    "print(np.mean(non_dupes_csim))\n",
    "all_csim"
   ]
  },
  {
   "cell_type": "markdown",
   "metadata": {},
   "source": [
    "# train classifier"
   ]
  },
  {
   "cell_type": "code",
   "execution_count": 155,
   "metadata": {
    "collapsed": false
   },
   "outputs": [],
   "source": [
    "myfor = RandomForestClassifier(n_estimators = 100)\n",
    "forest.fit()"
   ]
  }
 ],
 "metadata": {
  "kernelspec": {
   "display_name": "Python 3",
   "language": "python",
   "name": "python3"
  },
  "language_info": {
   "codemirror_mode": {
    "name": "ipython",
    "version": 3
   },
   "file_extension": ".py",
   "mimetype": "text/x-python",
   "name": "python",
   "nbconvert_exporter": "python",
   "pygments_lexer": "ipython3",
   "version": "3.6.0"
  }
 },
 "nbformat": 4,
 "nbformat_minor": 2
}
